{
 "cells": [
  {
   "cell_type": "code",
   "execution_count": 2,
   "metadata": {},
   "outputs": [],
   "source": [
    "from pyspark.sql.functions import *\n",
    "from pyspark.sql import SparkSession"
   ]
  },
  {
   "cell_type": "code",
   "execution_count": 3,
   "metadata": {},
   "outputs": [],
   "source": [
    "spark = SparkSession.builder.appName(\"movie_ratings\").getOrCreate()"
   ]
  },
  {
   "attachments": {},
   "cell_type": "markdown",
   "metadata": {},
   "source": [
    "Load the dataset into a PySpark DataFrame."
   ]
  },
  {
   "cell_type": "code",
   "execution_count": 4,
   "metadata": {},
   "outputs": [],
   "source": [
    "links_df = spark.read.csv(\"ml-latest-small/links.csv\",header=True)\n",
    "movies_df = spark.read.csv(\"ml-latest-small/movies.csv\",header=True)\n",
    "ratings_df = spark.read.csv(\"ml-latest-small/ratings.csv\",header=True)\n",
    "tags_df = spark.read.csv(\"ml-latest-small/tags.csv\",header=True)"
   ]
  },
  {
   "attachments": {},
   "cell_type": "markdown",
   "metadata": {},
   "source": [
    "Calculate the total number of ratings in the dataset."
   ]
  },
  {
   "cell_type": "code",
   "execution_count": 5,
   "metadata": {},
   "outputs": [
    {
     "name": "stdout",
     "output_type": "stream",
     "text": [
      "the total ratings is : 100836\n"
     ]
    }
   ],
   "source": [
    "total_rating = ratings_df.count()\n",
    "print(\"the total ratings is :\",total_rating)"
   ]
  },
  {
   "attachments": {},
   "cell_type": "markdown",
   "metadata": {},
   "source": [
    "Calculate the average rating for each movie."
   ]
  },
  {
   "cell_type": "code",
   "execution_count": 6,
   "metadata": {},
   "outputs": [],
   "source": [
    "avg_rating = ratings_df.groupBy('movieId').agg({'rating':'avg'}).orderBy('movieId')"
   ]
  },
  {
   "attachments": {},
   "cell_type": "markdown",
   "metadata": {},
   "source": [
    "Find the top 10 movies with the highest average rating."
   ]
  },
  {
   "cell_type": "code",
   "execution_count": 8,
   "metadata": {},
   "outputs": [],
   "source": [
    "top_10_avg_rating = ratings_df.orderBy(desc(\"rating\")).limit(10)"
   ]
  },
  {
   "cell_type": "code",
   "execution_count": 9,
   "metadata": {},
   "outputs": [
    {
     "name": "stdout",
     "output_type": "stream",
     "text": [
      "+------+-------+------+---------+\n",
      "|userId|movieId|rating|timestamp|\n",
      "+------+-------+------+---------+\n",
      "|     1|    163|   5.0|964983650|\n",
      "|     1|    216|   5.0|964981208|\n",
      "|     1|    362|   5.0|964982588|\n",
      "|     1|    231|   5.0|964981179|\n",
      "|     1|     50|   5.0|964982931|\n",
      "|     1|    260|   5.0|964981680|\n",
      "|     1|    151|   5.0|964984041|\n",
      "|     1|    333|   5.0|964981179|\n",
      "|     1|     47|   5.0|964983815|\n",
      "|     1|    157|   5.0|964984100|\n",
      "+------+-------+------+---------+\n",
      "\n"
     ]
    }
   ],
   "source": [
    "top_10_avg_rating.show()"
   ]
  },
  {
   "attachments": {},
   "cell_type": "markdown",
   "metadata": {},
   "source": [
    "Calculate the average rating for each user."
   ]
  },
  {
   "cell_type": "code",
   "execution_count": 10,
   "metadata": {},
   "outputs": [],
   "source": [
    "avg_rating_per_user = ratings_df.groupBy('userId').agg({'rating':'avg'})"
   ]
  },
  {
   "cell_type": "code",
   "execution_count": 11,
   "metadata": {},
   "outputs": [
    {
     "name": "stdout",
     "output_type": "stream",
     "text": [
      "+------+------------------+\n",
      "|userId|       avg(rating)|\n",
      "+------+------------------+\n",
      "|   296| 4.166666666666667|\n",
      "|   467| 3.409090909090909|\n",
      "|   125| 3.859722222222222|\n",
      "|   451|3.7941176470588234|\n",
      "|     7|3.2302631578947367|\n",
      "|    51|3.7757660167130918|\n",
      "|   124|              3.99|\n",
      "|   447| 3.871794871794872|\n",
      "|   591|3.2777777777777777|\n",
      "|   307|2.6656410256410257|\n",
      "|   475| 4.409677419354839|\n",
      "|   574|3.9565217391304346|\n",
      "|   169|  4.24907063197026|\n",
      "|   205|3.8703703703703702|\n",
      "|   334| 3.418831168831169|\n",
      "|   544| 4.363636363636363|\n",
      "|   577|3.5652173913043477|\n",
      "|   581|             4.375|\n",
      "|   272| 3.629032258064516|\n",
      "|   442|             1.275|\n",
      "+------+------------------+\n",
      "only showing top 20 rows\n",
      "\n"
     ]
    }
   ],
   "source": [
    "avg_rating_per_user.show()"
   ]
  },
  {
   "attachments": {},
   "cell_type": "markdown",
   "metadata": {},
   "source": [
    "Find the user with the highest average rating."
   ]
  },
  {
   "cell_type": "code",
   "execution_count": 12,
   "metadata": {},
   "outputs": [],
   "source": [
    "user_with_highest_avg_rating = avg_rating_per_user.orderBy(desc('avg(rating)')).limit(1)"
   ]
  },
  {
   "cell_type": "code",
   "execution_count": 13,
   "metadata": {},
   "outputs": [
    {
     "name": "stdout",
     "output_type": "stream",
     "text": [
      "+------+-----------+\n",
      "|userId|avg(rating)|\n",
      "+------+-----------+\n",
      "|    53|        5.0|\n",
      "+------+-----------+\n",
      "\n"
     ]
    }
   ],
   "source": [
    "user_with_highest_avg_rating.show()"
   ]
  },
  {
   "attachments": {},
   "cell_type": "markdown",
   "metadata": {},
   "source": [
    "Calculate the number of ratings given by each user."
   ]
  },
  {
   "cell_type": "code",
   "execution_count": 194,
   "metadata": {},
   "outputs": [],
   "source": [
    "no_of_rating_by_each_user = ratings_df.groupBy('userId').agg({'rating':'count'})"
   ]
  },
  {
   "cell_type": "code",
   "execution_count": 15,
   "metadata": {},
   "outputs": [
    {
     "name": "stdout",
     "output_type": "stream",
     "text": [
      "+------+-------------+\n",
      "|userId|count(rating)|\n",
      "+------+-------------+\n",
      "|   296|           27|\n",
      "|   467|           22|\n",
      "|   125|          360|\n",
      "|   451|           34|\n",
      "|     7|          152|\n",
      "|    51|          359|\n",
      "|   124|           50|\n",
      "|   447|           78|\n",
      "|   591|           54|\n",
      "|   307|          975|\n",
      "|   475|          155|\n",
      "|   574|           23|\n",
      "|   169|          269|\n",
      "|   205|           27|\n",
      "|   334|          154|\n",
      "|   544|           22|\n",
      "|   577|          161|\n",
      "|   581|           40|\n",
      "|   272|           31|\n",
      "|   442|           20|\n",
      "+------+-------------+\n",
      "only showing top 20 rows\n",
      "\n"
     ]
    }
   ],
   "source": [
    "no_of_rating_by_each_user.show()"
   ]
  },
  {
   "attachments": {},
   "cell_type": "markdown",
   "metadata": {},
   "source": [
    "Find the top 5 users who have given the most ratings."
   ]
  },
  {
   "cell_type": "code",
   "execution_count": 16,
   "metadata": {},
   "outputs": [],
   "source": [
    "top_5_user_given_most_rating = no_of_rating_by_each_user.orderBy(desc('count(rating)')).limit(5)"
   ]
  },
  {
   "cell_type": "code",
   "execution_count": 17,
   "metadata": {},
   "outputs": [
    {
     "name": "stdout",
     "output_type": "stream",
     "text": [
      "+------+-------------+\n",
      "|userId|count(rating)|\n",
      "+------+-------------+\n",
      "|   414|         2698|\n",
      "|   599|         2478|\n",
      "|   474|         2108|\n",
      "|   448|         1864|\n",
      "|   274|         1346|\n",
      "+------+-------------+\n",
      "\n"
     ]
    }
   ],
   "source": [
    "top_5_user_given_most_rating.show()"
   ]
  },
  {
   "attachments": {},
   "cell_type": "markdown",
   "metadata": {},
   "source": [
    "Find the genre with the highest average rating."
   ]
  },
  {
   "cell_type": "code",
   "execution_count": 19,
   "metadata": {},
   "outputs": [],
   "source": [
    "genre_with_highest_avg_rating = avg_rating.join(movies_df,'movieId')"
   ]
  },
  {
   "cell_type": "code",
   "execution_count": 20,
   "metadata": {},
   "outputs": [],
   "source": [
    "genre_with_highest_avg_rating = genre_with_highest_avg_rating.select('avg(rating)','genres').orderBy(desc('avg(rating)'))"
   ]
  },
  {
   "cell_type": "code",
   "execution_count": 21,
   "metadata": {},
   "outputs": [
    {
     "data": {
      "text/plain": [
       "Row(avg(rating)=5.0, genres='Comedy')"
      ]
     },
     "execution_count": 21,
     "metadata": {},
     "output_type": "execute_result"
    }
   ],
   "source": [
    "genre_with_highest_avg_rating.first()"
   ]
  },
  {
   "attachments": {},
   "cell_type": "markdown",
   "metadata": {},
   "source": [
    "Calculate the average rating for each genre"
   ]
  },
  {
   "cell_type": "code",
   "execution_count": 22,
   "metadata": {},
   "outputs": [],
   "source": [
    "genre_with_ratings = avg_rating.join(movies_df,'movieId').select('avg(rating)','genres')"
   ]
  },
  {
   "cell_type": "code",
   "execution_count": 23,
   "metadata": {},
   "outputs": [
    {
     "name": "stdout",
     "output_type": "stream",
     "text": [
      "+------------------+--------------------+\n",
      "|       avg(rating)|              genres|\n",
      "+------------------+--------------------+\n",
      "| 4.197068403908795|Comedy|Crime|Dram...|\n",
      "| 3.984126984126984|           Drama|War|\n",
      "|3.9107142857142856|Drama|Sci-Fi|Thri...|\n",
      "|3.4761904761904763|Comedy|Drama|Romance|\n",
      "|          3.546875|Action|Adventure|...|\n",
      "|2.6666666666666665|Comedy|Fantasy|Mu...|\n",
      "|               2.5|Adventure|Comedy|...|\n",
      "|3.2444444444444445|Adventure|Animati...|\n",
      "|               3.1|  Adventure|Thriller|\n",
      "|             3.975|      Drama|Thriller|\n",
      "|             3.625|Action|Adventure|...|\n",
      "|3.6315789473684212|        Comedy|Drama|\n",
      "|2.4642857142857144|       Comedy|Sci-Fi|\n",
      "|3.3333333333333335|      Comedy|Romance|\n",
      "|              3.75|Comedy|Musical|Ro...|\n",
      "|               4.0|Adventure|Childre...|\n",
      "|             3.625|Horror|Sci-Fi|Thr...|\n",
      "|              3.75|Drama|Horror|Myst...|\n",
      "|               4.5|               Drama|\n",
      "|               4.5|         Documentary|\n",
      "+------------------+--------------------+\n",
      "only showing top 20 rows\n",
      "\n"
     ]
    }
   ],
   "source": [
    "genre_with_ratings.show()"
   ]
  },
  {
   "attachments": {},
   "cell_type": "markdown",
   "metadata": {},
   "source": [
    "Determine the top 5 movies with the highest rating count (number of ratings)."
   ]
  },
  {
   "cell_type": "code",
   "execution_count": 24,
   "metadata": {},
   "outputs": [],
   "source": [
    "highest_rating_count = ratings_df.groupBy('movieId').agg({'rating':'count'})"
   ]
  },
  {
   "cell_type": "code",
   "execution_count": 25,
   "metadata": {},
   "outputs": [],
   "source": [
    "highest_rating_count=highest_rating_count.orderBy(desc('count(rating)')).join(movies_df,'movieId').select('title','count(rating)').limit(5)"
   ]
  },
  {
   "cell_type": "code",
   "execution_count": 26,
   "metadata": {},
   "outputs": [
    {
     "name": "stdout",
     "output_type": "stream",
     "text": [
      "+--------------------+-------------+\n",
      "|               title|count(rating)|\n",
      "+--------------------+-------------+\n",
      "| Pulp Fiction (1994)|          307|\n",
      "|      Platoon (1986)|           63|\n",
      "|   Ex Machina (2015)|           28|\n",
      "|Fast Times at Rid...|           42|\n",
      "|Captain America: ...|           32|\n",
      "+--------------------+-------------+\n",
      "\n"
     ]
    }
   ],
   "source": [
    "highest_rating_count.show()"
   ]
  },
  {
   "attachments": {},
   "cell_type": "markdown",
   "metadata": {},
   "source": [
    "Calculate the average rating for movies released in each year."
   ]
  },
  {
   "cell_type": "code",
   "execution_count": 184,
   "metadata": {},
   "outputs": [],
   "source": [
    "movies_with_year = movies_df.withColumn('year',regexp_extract(movies_df.title,'\\((\\d{4})\\)',1))"
   ]
  },
  {
   "cell_type": "code",
   "execution_count": 185,
   "metadata": {},
   "outputs": [],
   "source": [
    "avg_rating_per_year = movies_with_year.join(ratings_df,'movieId')"
   ]
  },
  {
   "cell_type": "code",
   "execution_count": 186,
   "metadata": {},
   "outputs": [],
   "source": [
    "avg_rating_per_year = avg_rating_per_year.groupBy('year').agg({'rating':'avg'})"
   ]
  },
  {
   "cell_type": "code",
   "execution_count": 187,
   "metadata": {},
   "outputs": [
    {
     "name": "stdout",
     "output_type": "stream",
     "text": [
      "+----+------------------+\n",
      "|year|       avg(rating)|\n",
      "+----+------------------+\n",
      "|1953|3.6470588235294117|\n",
      "|1903|               2.5|\n",
      "|1957|  4.03953488372093|\n",
      "|1987|3.4883116883116885|\n",
      "|1956|3.6826086956521737|\n",
      "|2016| 3.387261146496815|\n",
      "|1936|3.5283018867924527|\n",
      "|2012|3.5126262626262625|\n",
      "|1958|3.8424242424242423|\n",
      "|1943|             3.625|\n",
      "|1915|               2.0|\n",
      "|1972| 3.939890710382514|\n",
      "|1931|3.6052631578947367|\n",
      "|1938| 3.767857142857143|\n",
      "|1988|3.4181173436492585|\n",
      "|1926|               4.0|\n",
      "|2017|3.5780911062906724|\n",
      "|1932|3.3333333333333335|\n",
      "|1977| 3.810405643738977|\n",
      "|1971| 3.841463414634146|\n",
      "+----+------------------+\n",
      "only showing top 20 rows\n",
      "\n"
     ]
    }
   ],
   "source": [
    "avg_rating_per_year.show()"
   ]
  },
  {
   "attachments": {},
   "cell_type": "markdown",
   "metadata": {},
   "source": [
    "Find the user(s) who have rated the largest number of movies across different genres"
   ]
  },
  {
   "cell_type": "code",
   "execution_count": 31,
   "metadata": {},
   "outputs": [
    {
     "name": "stdout",
     "output_type": "stream",
     "text": [
      "+-------+------+------+---------+--------------------+--------------------+\n",
      "|movieId|userId|rating|timestamp|               title|              genres|\n",
      "+-------+------+------+---------+--------------------+--------------------+\n",
      "|      1|     1|   4.0|964982703|    Toy Story (1995)|Adventure|Animati...|\n",
      "|      3|     1|   4.0|964981247|Grumpier Old Men ...|      Comedy|Romance|\n",
      "|      6|     1|   4.0|964982224|         Heat (1995)|Action|Crime|Thri...|\n",
      "|     47|     1|   5.0|964983815|Seven (a.k.a. Se7...|    Mystery|Thriller|\n",
      "|     50|     1|   5.0|964982931|Usual Suspects, T...|Crime|Mystery|Thr...|\n",
      "|     70|     1|   3.0|964982400|From Dusk Till Da...|Action|Comedy|Hor...|\n",
      "|    101|     1|   5.0|964980868|Bottle Rocket (1996)|Adventure|Comedy|...|\n",
      "|    110|     1|   4.0|964982176|   Braveheart (1995)|    Action|Drama|War|\n",
      "|    151|     1|   5.0|964984041|      Rob Roy (1995)|Action|Drama|Roma...|\n",
      "|    157|     1|   5.0|964984100|Canadian Bacon (1...|          Comedy|War|\n",
      "|    163|     1|   5.0|964983650|    Desperado (1995)|Action|Romance|We...|\n",
      "|    216|     1|   5.0|964981208|Billy Madison (1995)|              Comedy|\n",
      "|    223|     1|   3.0|964980985|       Clerks (1994)|              Comedy|\n",
      "|    231|     1|   5.0|964981179|Dumb & Dumber (Du...|    Adventure|Comedy|\n",
      "|    235|     1|   4.0|964980908|      Ed Wood (1994)|        Comedy|Drama|\n",
      "|    260|     1|   5.0|964981680|Star Wars: Episod...|Action|Adventure|...|\n",
      "|    296|     1|   3.0|964982967| Pulp Fiction (1994)|Comedy|Crime|Dram...|\n",
      "|    316|     1|   3.0|964982310|     Stargate (1994)|Action|Adventure|...|\n",
      "|    333|     1|   5.0|964981179|    Tommy Boy (1995)|              Comedy|\n",
      "|    349|     1|   4.0|964982563|Clear and Present...|Action|Crime|Dram...|\n",
      "+-------+------+------+---------+--------------------+--------------------+\n",
      "only showing top 20 rows\n",
      "\n"
     ]
    }
   ],
   "source": [
    "rating_with_genre = ratings_df.join(movies_df,'movieId')\n",
    "rating_with_genre.show()"
   ]
  },
  {
   "cell_type": "code",
   "execution_count": 32,
   "metadata": {},
   "outputs": [
    {
     "name": "stdout",
     "output_type": "stream",
     "text": [
      "+------+--------------------+-----+\n",
      "|userId|              genres|count|\n",
      "+------+--------------------+-----+\n",
      "|   474|               Drama|  319|\n",
      "|   448|              Comedy|  271|\n",
      "|   414|               Drama|  257|\n",
      "|   414|              Comedy|  238|\n",
      "|   599|              Comedy|  226|\n",
      "|   599|               Drama|  186|\n",
      "|   111|              Comedy|  173|\n",
      "|   606|               Drama|  167|\n",
      "|   603|               Drama|  153|\n",
      "|   474|              Comedy|  152|\n",
      "|   298|              Comedy|  150|\n",
      "|   307|              Comedy|  142|\n",
      "|   414|        Comedy|Drama|  137|\n",
      "|   274|              Comedy|  130|\n",
      "|   474|       Drama|Romance|  124|\n",
      "|   414|      Comedy|Romance|  121|\n",
      "|    89|              Comedy|  105|\n",
      "|   414|Comedy|Drama|Romance|  105|\n",
      "|   414|       Drama|Romance|  102|\n",
      "|   606|       Drama|Romance|   99|\n",
      "+------+--------------------+-----+\n",
      "only showing top 20 rows\n",
      "\n"
     ]
    }
   ],
   "source": [
    "rating_with_genre.groupBy('userId','genres').count().orderBy(desc('count')).show()"
   ]
  },
  {
   "attachments": {},
   "cell_type": "markdown",
   "metadata": {},
   "source": [
    "Calculate the average rating for each genre, considering only movies with more than 100 ratings"
   ]
  },
  {
   "cell_type": "code",
   "execution_count": 76,
   "metadata": {},
   "outputs": [],
   "source": [
    "movies_with_more_than_hundred_rating = ratings_df.join(movies_df,'movieId')\n",
    "# .groupBy('genres').agg({'rating':'avg'})"
   ]
  },
  {
   "cell_type": "code",
   "execution_count": 82,
   "metadata": {},
   "outputs": [],
   "source": [
    "movies_with_more_than_hundred_rating=movies_with_more_than_hundred_rating.groupBy('genres').agg({'rating':'avg'})"
   ]
  },
  {
   "cell_type": "code",
   "execution_count": 87,
   "metadata": {},
   "outputs": [],
   "source": [
    "avg_ratings_more_than_100_rating = ratings_df.groupBy('movieId').agg({'rating':'count'}).filter('count(rating)>100').join(movies_df,'movieId').join(movies_with_more_than_hundred_rating,'genres')\n",
    "# .groupBy('genres').agg({'rating':'avg'})"
   ]
  },
  {
   "cell_type": "code",
   "execution_count": 88,
   "metadata": {},
   "outputs": [
    {
     "name": "stdout",
     "output_type": "stream",
     "text": [
      "+--------------------+-------+-------------+--------------------+------------------+\n",
      "|              genres|movieId|count(rating)|               title|       avg(rating)|\n",
      "+--------------------+-------+-------------+--------------------+------------------+\n",
      "|Action|Adventure|...|   7153|          185|Lord of the Rings...|3.9191176470588234|\n",
      "|Action|Adventure|...|   3578|          170|    Gladiator (2000)|3.7463465553235906|\n",
      "|   Adventure|Fantasy|   5952|          188|Lord of the Rings...| 3.872431506849315|\n",
      "|   Adventure|Fantasy|   4993|          198|Lord of the Rings...| 3.872431506849315|\n",
      "|   Adventure|Fantasy|   5816|          102|Harry Potter and ...| 3.872431506849315|\n",
      "|Crime|Drama|Thriller|  48516|          107|Departed, The (2006)|  3.73503127792672|\n",
      "|Crime|Drama|Thriller|    111|          104|  Taxi Driver (1976)|  3.73503127792672|\n",
      "|Mystery|Sci-Fi|Th...|     32|          177|Twelve Monkeys (a...|3.8725868725868726|\n",
      "|Adventure|Drama|IMAX|    150|          201|    Apollo 13 (1995)|3.7953586497890295|\n",
      "|      Crime|Thriller|   4963|          119|Ocean's Eleven (2...| 3.520334928229665|\n",
      "|Drama|Mystery|Sci...|   4878|          109| Donnie Darko (2001)| 3.879182156133829|\n",
      "|       Action|Sci-Fi|    589|          224|Terminator 2: Jud...|3.2902757619738754|\n",
      "|            Thriller|    457|          190|Fugitive, The (1993)| 3.426751592356688|\n",
      "|Comedy|Fantasy|Ro...|   1265|          143|Groundhog Day (1993)|3.3807588075880757|\n",
      "|Action|Adventure|...|   2115|          108|Indiana Jones and...| 3.208130081300813|\n",
      "|Action|Romance|Th...|    377|          171|        Speed (1994)| 3.336842105263158|\n",
      "|Adventure|Animati...|   4306|          170|        Shrek (2001)| 3.863372093023256|\n",
      "|Crime|Horror|Thri...|    593|          279|Silence of the La...|3.9338235294117645|\n",
      "|Adventure|Comedy|...|   1270|          171|Back to the Futur...|3.6390977443609023|\n",
      "|Action|Crime|Myst...|   5445|          120|Minority Report (...|3.5864197530864197|\n",
      "+--------------------+-------+-------------+--------------------+------------------+\n",
      "only showing top 20 rows\n",
      "\n"
     ]
    }
   ],
   "source": [
    "avg_ratings_more_than_100_rating.show()"
   ]
  },
  {
   "attachments": {},
   "cell_type": "markdown",
   "metadata": {},
   "source": [
    "Identify the movie(s) that received the highest and lowest ratings from users who have rated at least 100 movies."
   ]
  },
  {
   "cell_type": "code",
   "execution_count": 102,
   "metadata": {},
   "outputs": [],
   "source": [
    "user_with_100_ratings = ratings_df.groupBy('userId').agg({\"rating\":\"count\"}).filter(\"count(rating)>100\")"
   ]
  },
  {
   "cell_type": "code",
   "execution_count": 103,
   "metadata": {},
   "outputs": [
    {
     "name": "stdout",
     "output_type": "stream",
     "text": [
      "+------+-------------+\n",
      "|userId|count(rating)|\n",
      "+------+-------------+\n",
      "|   125|          360|\n",
      "|     7|          152|\n",
      "|    51|          359|\n",
      "|   307|          975|\n",
      "|   475|          155|\n",
      "|   169|          269|\n",
      "|   334|          154|\n",
      "|   577|          161|\n",
      "|   462|          455|\n",
      "|    15|          135|\n",
      "|   232|          862|\n",
      "|   234|          202|\n",
      "|   282|          237|\n",
      "|   448|         1864|\n",
      "|   483|          728|\n",
      "|   132|          347|\n",
      "|   317|          189|\n",
      "|   200|          334|\n",
      "|   428|          300|\n",
      "|   495|          265|\n",
      "+------+-------------+\n",
      "only showing top 20 rows\n",
      "\n"
     ]
    }
   ],
   "source": [
    "user_with_100_ratings.show()"
   ]
  },
  {
   "cell_type": "code",
   "execution_count": 110,
   "metadata": {},
   "outputs": [],
   "source": [
    "movie_ratings = user_with_100_ratings.join(ratings_df,'userId').orderBy('rating')"
   ]
  },
  {
   "cell_type": "code",
   "execution_count": 109,
   "metadata": {},
   "outputs": [
    {
     "data": {
      "text/plain": [
       "[Row(userId='610', count(rating)=1302, movieId='168252', rating='5.0', timestamp='1493846352')]"
      ]
     },
     "execution_count": 109,
     "metadata": {},
     "output_type": "execute_result"
    }
   ],
   "source": [
    "# user_with_100_ratings.join(ratings_df,'userId').orderBy('rating').tail(1)"
   ]
  },
  {
   "cell_type": "code",
   "execution_count": 112,
   "metadata": {},
   "outputs": [
    {
     "name": "stdout",
     "output_type": "stream",
     "text": [
      "lowest rated movie by user with atleast 100 ratings :  Row(userId='7', count(rating)=152, movieId='1784', rating='0.5', timestamp='1106635416')\n",
      "highest rated movie by user with atleast 100 ratings :  [Row(userId='610', count(rating)=1302, movieId='168252', rating='5.0', timestamp='1493846352')]\n"
     ]
    }
   ],
   "source": [
    "print(\"lowest rated movie by user with atleast 100 ratings : \",movie_ratings.first())\n",
    "print(\"highest rated movie by user with atleast 100 ratings : \",movie_ratings.tail(1))\n"
   ]
  },
  {
   "attachments": {},
   "cell_type": "markdown",
   "metadata": {},
   "source": [
    "Calculate the average rating for each genre, excluding movies released in the last 5 years."
   ]
  },
  {
   "cell_type": "code",
   "execution_count": 188,
   "metadata": {},
   "outputs": [],
   "source": [
    "avg_rating_per_genre_until_last_5_yr = movies_with_year.filter(\"year<=2018\")"
   ]
  },
  {
   "cell_type": "code",
   "execution_count": 189,
   "metadata": {},
   "outputs": [],
   "source": [
    "avg_ratings = ratings_df.groupBy('movieId').agg(count('rating').alias(\"avg_rating\"))"
   ]
  },
  {
   "cell_type": "code",
   "execution_count": 190,
   "metadata": {},
   "outputs": [],
   "source": [
    "avg_rating_per_genre_until_last_5_yr=avg_ratings.join(avg_rating_per_genre_until_last_5_yr,\"movieId\")"
   ]
  },
  {
   "cell_type": "code",
   "execution_count": 191,
   "metadata": {},
   "outputs": [
    {
     "name": "stdout",
     "output_type": "stream",
     "text": [
      "+-------+----------+--------------------+--------------------+----+\n",
      "|movieId|avg_rating|               title|              genres|year|\n",
      "+-------+----------+--------------------+--------------------+----+\n",
      "|    296|       307| Pulp Fiction (1994)|Comedy|Crime|Dram...|1994|\n",
      "|   1090|        63|      Platoon (1986)|           Drama|War|1986|\n",
      "| 115713|        28|   Ex Machina (2015)|Drama|Sci-Fi|Thri...|2015|\n",
      "|   3210|        42|Fast Times at Rid...|Comedy|Drama|Romance|1982|\n",
      "|  88140|        32|Captain America: ...|Action|Adventure|...|2011|\n",
      "|    829|         9|Joe's Apartment (...|Comedy|Fantasy|Mu...|1996|\n",
      "|   2088|        18|       Popeye (1980)|Adventure|Comedy|...|1980|\n",
      "|   2294|        45|         Antz (1998)|Adventure|Animati...|1998|\n",
      "|   4821|         5|     Joy Ride (2001)|  Adventure|Thriller|2001|\n",
      "|  48738|        20|Last King of Scot...|      Drama|Thriller|2006|\n",
      "|   3959|         8|Time Machine, The...|Action|Adventure|...|1960|\n",
      "|  89864|        19|        50/50 (2011)|        Comedy|Drama|2011|\n",
      "|   2136|        14|Nutty Professor, ...|       Comedy|Sci-Fi|1963|\n",
      "|    691|         3|Mrs. Winterbourne...|      Comedy|Romance|1996|\n",
      "|   3606|         4|  On the Town (1949)|Comedy|Musical|Ro...|1949|\n",
      "| 121007|         1|Space Buddies (2009)|Adventure|Childre...|2009|\n",
      "|   6731|         8|Day of the Dead (...|Horror|Sci-Fi|Thr...|1985|\n",
      "|  27317|         6|Audition (Ôdishon...|Drama|Horror|Myst...|1999|\n",
      "|  26082|         3|Harakiri (Seppuku...|               Drama|1962|\n",
      "| 100553|         2|Frozen Planet (2011)|         Documentary|2011|\n",
      "+-------+----------+--------------------+--------------------+----+\n",
      "only showing top 20 rows\n",
      "\n"
     ]
    }
   ],
   "source": [
    "avg_rating_per_genre_until_last_5_yr.show()"
   ]
  }
 ],
 "metadata": {
  "kernelspec": {
   "display_name": "Python 3",
   "language": "python",
   "name": "python3"
  },
  "language_info": {
   "codemirror_mode": {
    "name": "ipython",
    "version": 3
   },
   "file_extension": ".py",
   "mimetype": "text/x-python",
   "name": "python",
   "nbconvert_exporter": "python",
   "pygments_lexer": "ipython3",
   "version": "3.11.3"
  },
  "orig_nbformat": 4
 },
 "nbformat": 4,
 "nbformat_minor": 2
}
